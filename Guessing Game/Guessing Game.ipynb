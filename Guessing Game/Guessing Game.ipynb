{
 "cells": [
  {
   "cell_type": "code",
   "execution_count": null,
   "metadata": {},
   "outputs": [],
   "source": [
    "from random import randint\n",
    "\n",
    "number = randint(1,100)\n",
    "\n",
    "number"
   ]
  },
  {
   "cell_type": "code",
   "execution_count": null,
   "metadata": {},
   "outputs": [],
   "source": [
    "print('Welcome to the Guessing Game!')\n",
    "print('Here are the rules:')\n",
    "print('First, pick a number from 1 to 100.')\n",
    "print('If your guess is within 10 of the number, you are WARM, otherwise, you are COLD.')\n",
    "print('If your next guess is closer to the number than the previous guess, you are getting WARMER. Otherwise, you are getting COLDER.')\n",
    "print('If you pick the exact number, congrats!')\n",
    "print(\"Ready? Let's start!\")\n",
    "\n",
    "\n",
    "guesses = 0\n",
    "\n",
    "dif = 0\n",
    "\n",
    "while True:\n",
    "    \n",
    "    guess = int(input('Pick a number from 1 to 100:'))\n",
    "    guesses += 1\n",
    "    \n",
    "    if guess == number:\n",
    "        print('Correct!')\n",
    "        print(f'Number of guesses: {guesses}')\n",
    "        break\n",
    "    elif guess != number:\n",
    "        print('Try again!')\n",
    "        if guess < 1 or guess > 100:\n",
    "            print('Out of bounds!')\n",
    "        elif dif == 0:\n",
    "            dif = abs(number - guess)\n",
    "            if dif <= 10:\n",
    "                print('Warm!')\n",
    "            else:\n",
    "                print('Cold!')\n",
    "        else:\n",
    "            new_dif = abs(number - guess)\n",
    "            if new_dif < dif:\n",
    "                print('Warmer!')\n",
    "            else:\n",
    "                print('Colder!')\n",
    "            dif = new_dif"
   ]
  }
 ],
 "metadata": {
  "kernelspec": {
   "display_name": "Python 3",
   "language": "python",
   "name": "python3"
  },
  "language_info": {
   "codemirror_mode": {
    "name": "ipython",
    "version": 3
   },
   "file_extension": ".py",
   "mimetype": "text/x-python",
   "name": "python",
   "nbconvert_exporter": "python",
   "pygments_lexer": "ipython3",
   "version": "3.8.3"
  }
 },
 "nbformat": 4,
 "nbformat_minor": 4
}
