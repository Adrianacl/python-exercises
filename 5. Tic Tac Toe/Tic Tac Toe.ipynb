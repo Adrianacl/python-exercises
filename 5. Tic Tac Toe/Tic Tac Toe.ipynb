{
 "cells": [
  {
   "cell_type": "code",
   "execution_count": null,
   "metadata": {},
   "outputs": [],
   "source": [
    "from IPython.display import clear_output\n",
    "clear_output()"
   ]
  },
  {
   "cell_type": "code",
   "execution_count": null,
   "metadata": {},
   "outputs": [],
   "source": [
    "def display_game(board):\n",
    "    \n",
    "    print('Here is the current board: ')\n",
    "    print(board[0])\n",
    "    print(board[1])\n",
    "    print(board[2])"
   ]
  },
  {
   "cell_type": "code",
   "execution_count": null,
   "metadata": {},
   "outputs": [],
   "source": [
    "def new_board():\n",
    "    \n",
    "    row1 = [' ', ' ', ' ']\n",
    "    row2 = [' ', ' ', ' ']\n",
    "    row3 = [' ', ' ', ' ']\n",
    "    \n",
    "    return [row1, row2, row3]\n",
    "\n",
    "board = new_board()\n",
    "\n",
    "display_game(board)"
   ]
  },
  {
   "cell_type": "code",
   "execution_count": null,
   "metadata": {},
   "outputs": [],
   "source": [
    "def position_choice():\n",
    "    \n",
    "    choice = 'none'\n",
    "    \n",
    "    while choice not in ['0', '1', '2']:\n",
    "        \n",
    "        choice_x = input('First, pick an x position (0, 1, or 2): ')\n",
    "        \n",
    "        choice_y = input('Now, pick a y position (0, 1, or 2): ')\n",
    "        \n",
    "        if choice_x not in ['0', '1', '2']:\n",
    "            \n",
    "            clear_output()\n",
    "            \n",
    "            print('Sorry, you did not choose a valid position (0, 1, or 2).')\n",
    "            \n",
    "        elif choice_y not in ['0', '1', '2']:\n",
    "            \n",
    "            clear_output()\n",
    "            \n",
    "            print('Sorry, you did not choose a valid position (0, 1, or 2).')\n",
    "            \n",
    "        else:\n",
    "            pass\n",
    "        \n",
    "        break\n",
    "            \n",
    "    #clear_output()\n",
    "            \n",
    "    return int(choice_x), int(choice_y)\n"
   ]
  },
  {
   "cell_type": "code",
   "execution_count": null,
   "metadata": {
    "scrolled": true
   },
   "outputs": [],
   "source": [
    "#position_choice()"
   ]
  },
  {
   "cell_type": "code",
   "execution_count": null,
   "metadata": {},
   "outputs": [],
   "source": [
    "def replacement_choice(board, position_x, position_y):\n",
    "    \n",
    "    user_placement = input('Type X or O to place at the position: ')\n",
    "        \n",
    "    board[position_x][position_y] = user_placement\n",
    "    \n",
    "    clear_output()\n",
    "    \n",
    "    return board"
   ]
  },
  {
   "cell_type": "code",
   "execution_count": null,
   "metadata": {},
   "outputs": [],
   "source": [
    "def replacement_choice(board, position_x, position_y):\n",
    "    \n",
    "    user_placement = 'none'\n",
    "    \n",
    "    while user_placement not in ['X', 'O']:\n",
    "        \n",
    "        user_placement = input('Type X or O to place at the position: ')\n",
    "        \n",
    "        if user_placement not in ['X','O']:\n",
    "            \n",
    "            clear_output()\n",
    "            \n",
    "            print('Sorry, you did not choose a valid input (X or O). Try again.')\n",
    "            \n",
    "        else:\n",
    "            \n",
    "            board[position_x][position_y] = user_placement\n",
    "            \n",
    "    clear_output()\n",
    "            \n",
    "    return user_placement"
   ]
  },
  {
   "cell_type": "code",
   "execution_count": null,
   "metadata": {},
   "outputs": [],
   "source": [
    "# replacement_choice(board, 0, 1)\n",
    "\n",
    "# display_game(board)"
   ]
  },
  {
   "cell_type": "code",
   "execution_count": null,
   "metadata": {},
   "outputs": [],
   "source": [
    "def game_winner(board):\n",
    "\n",
    "    for x in range(0,3):\n",
    "        \n",
    "        if board[x][0] == board[x][1] == board[x][2] != ' ':   # row\n",
    "            \n",
    "            return True\n",
    "        \n",
    "        elif board[0][x] == board[1][x] == board[2][x] != ' ':   # column\n",
    "            \n",
    "            return True\n",
    "        \n",
    "    if board[0][0] == board[1][1] == board[2][2] != ' ':   # diagonal 1\n",
    "            \n",
    "            return True\n",
    "        \n",
    "    elif board[0][2] == board[1][1] == board[2][0] != ' ':   # diagonal 2\n",
    "            \n",
    "            return True\n",
    "        \n",
    "    return False"
   ]
  },
  {
   "cell_type": "code",
   "execution_count": null,
   "metadata": {},
   "outputs": [],
   "source": [
    "def gameon_choice():\n",
    "    \n",
    "    choice = 'none'\n",
    "    \n",
    "    while choice not in ['Y', 'N']:\n",
    "        \n",
    "        choice = input('Would you like to keep playing? (Y or N): ')\n",
    "        \n",
    "        if choice not in ['Y', 'N']:\n",
    "            \n",
    "            clear_output()\n",
    "            \n",
    "            print('Sorry, I did not understand. Make sure to choose \"Y\" or \"N\".')\n",
    "    \n",
    "    if choice == 'Y':\n",
    "        return True\n",
    "    else:\n",
    "        return False"
   ]
  },
  {
   "cell_type": "code",
   "execution_count": null,
   "metadata": {},
   "outputs": [],
   "source": [
    "game_on = True\n",
    "\n",
    "game_board = board\n",
    "\n",
    "while game_on:\n",
    "    \n",
    "    display_game(board)\n",
    "    \n",
    "    position_x, position_y = position_choice()\n",
    "    \n",
    "    game_board = replacement_choice(board, position_x, position_y)\n",
    "    \n",
    "    if game_winner(board):\n",
    "        \n",
    "        print('You win!')\n",
    "        \n",
    "        game_on = gameon_choice()\n",
    "        \n",
    "        if game_on:\n",
    "            \n",
    "            clear_output()\n",
    "            \n",
    "            board = new_board()"
   ]
  }
 ],
 "metadata": {
  "kernelspec": {
   "display_name": "Python 3",
   "language": "python",
   "name": "python3"
  },
  "language_info": {
   "codemirror_mode": {
    "name": "ipython",
    "version": 3
   },
   "file_extension": ".py",
   "mimetype": "text/x-python",
   "name": "python",
   "nbconvert_exporter": "python",
   "pygments_lexer": "ipython3",
   "version": "3.8.3"
  }
 },
 "nbformat": 4,
 "nbformat_minor": 4
}
