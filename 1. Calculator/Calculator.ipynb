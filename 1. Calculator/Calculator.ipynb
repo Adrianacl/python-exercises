{
 "cells": [
  {
   "cell_type": "code",
   "execution_count": null,
   "metadata": {},
   "outputs": [],
   "source": [
    "def add(x, y):\n",
    "    return x + y\n",
    "\n",
    "def sub(x, y):\n",
    "    return x - y\n",
    "\n",
    "def mult(x, y):\n",
    "    return x * y\n",
    "\n",
    "def div(x, y):\n",
    "    return x / y\n",
    "\n",
    "\n",
    "while True:\n",
    "    \n",
    "    print('Select operation: ')\n",
    "    print('1. Add')\n",
    "    print('2. Subtract')\n",
    "    print('3. Multiply')\n",
    "    print('4. Divide')\n",
    "    print('5. Exit')\n",
    "    \n",
    "    choice = input('Enter choice here (1, 2, 3, 4, or 5): '')\n",
    "    \n",
    "    operations = ['1','2','3','4']\n",
    "    \n",
    "    if choice in operations:\n",
    "        \n",
    "        x = float(input('Enter your first number here: '))\n",
    "        y = float(input('Enter your second number here: '))\n",
    "    \n",
    "        if choice == '1':\n",
    "            print(x, '+', y, '=', add(x, y))\n",
    "        \n",
    "        elif choice == '2':\n",
    "            print(x, '-', y, '=', sub(x, y))\n",
    "        \n",
    "        elif choice == '3':\n",
    "            print(x, '*', y, '=', mult(x, y))\n",
    "        \n",
    "        elif choice == '4':\n",
    "            print(x, '/', y, '=', div(x, y))\n",
    "            \n",
    "    else:\n",
    "        print('Exit')\n",
    "        break"
   ]
  }
 ],
 "metadata": {
  "kernelspec": {
   "display_name": "Python 3",
   "language": "python",
   "name": "python3"
  },
  "language_info": {
   "codemirror_mode": {
    "name": "ipython",
    "version": 3
   },
   "file_extension": ".py",
   "mimetype": "text/x-python",
   "name": "python",
   "nbconvert_exporter": "python",
   "pygments_lexer": "ipython3",
   "version": "3.8.3"
  }
 },
 "nbformat": 4,
 "nbformat_minor": 4
}
