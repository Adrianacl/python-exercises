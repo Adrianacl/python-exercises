{
 "cells": [
  {
   "cell_type": "code",
   "execution_count": null,
   "metadata": {},
   "outputs": [],
   "source": [
    "from IPython.display import clear_output\n",
    "clear_output()"
   ]
  },
  {
   "cell_type": "code",
   "execution_count": null,
   "metadata": {},
   "outputs": [],
   "source": [
    "def display_game(game_lst):\n",
    "    \n",
    "    print(f'Here is the current list: {game_lst}')"
   ]
  },
  {
   "cell_type": "code",
   "execution_count": null,
   "metadata": {},
   "outputs": [],
   "source": [
    "game_lst = [0,1,2]\n",
    "\n",
    "display_game(game_lst)"
   ]
  },
  {
   "cell_type": "code",
   "execution_count": null,
   "metadata": {},
   "outputs": [],
   "source": [
    "def position_choice():\n",
    "    \n",
    "    choice = 'none'\n",
    "    \n",
    "    while choice not in ['0', '1', '2']:\n",
    "        \n",
    "        choice = input('Pick a position to replace (0, 1, or 2): ')\n",
    "        \n",
    "        if choice not in ['0', '1', '2']:\n",
    "            \n",
    "            clear_output()\n",
    "            \n",
    "            print('Sorry, you did not choose a valid position (0, 1, or 2).')\n",
    "            \n",
    "    #clear_output()\n",
    "            \n",
    "    return int(choice)"
   ]
  },
  {
   "cell_type": "code",
   "execution_count": null,
   "metadata": {
    "scrolled": true
   },
   "outputs": [],
   "source": [
    "position_choice()"
   ]
  },
  {
   "cell_type": "code",
   "execution_count": null,
   "metadata": {},
   "outputs": [],
   "source": [
    "def replacement_choice(game_lst, position):\n",
    "    \n",
    "    user_placement = input('Type a string to place at the position chosen: ')\n",
    "    \n",
    "    game_lst[position] = user_placement\n",
    "    \n",
    "    return game_lst"
   ]
  },
  {
   "cell_type": "code",
   "execution_count": null,
   "metadata": {
    "scrolled": true
   },
   "outputs": [],
   "source": [
    "replacement_choice(game_lst, 1)"
   ]
  },
  {
   "cell_type": "code",
   "execution_count": null,
   "metadata": {},
   "outputs": [],
   "source": [
    "def gameon_choice():\n",
    "    \n",
    "    choice = 'none'\n",
    "    \n",
    "    while choice not in ['yes', 'no']:\n",
    "        \n",
    "        choice = input('Would you like to keep playing? (yes or no): ')\n",
    "        \n",
    "        if choice not in ['yes', 'no']:\n",
    "            \n",
    "            clear_output()\n",
    "            \n",
    "            print('Sorry, I did not understand. Make sure to choose \"yes\" or \"no\".')\n",
    "    \n",
    "    if choice == 'yes':\n",
    "        return True\n",
    "    else:\n",
    "        return False"
   ]
  },
  {
   "cell_type": "code",
   "execution_count": null,
   "metadata": {},
   "outputs": [],
   "source": [
    "gameon_choice()"
   ]
  },
  {
   "cell_type": "code",
   "execution_count": null,
   "metadata": {},
   "outputs": [],
   "source": [
    "game_on = True\n",
    "\n",
    "game_lst = [0,1,2]\n",
    "\n",
    "while game_on:\n",
    "    \n",
    "    display_game(game_lst)\n",
    "    \n",
    "    position = position_choice()\n",
    "    \n",
    "    game_lst = replacement_choice(game_lst,position)\n",
    "    \n",
    "    display_game(game_lst)\n",
    "    \n",
    "    game_on = gameon_choice()"
   ]
  }
 ],
 "metadata": {
  "kernelspec": {
   "display_name": "Python 3",
   "language": "python",
   "name": "python3"
  },
  "language_info": {
   "codemirror_mode": {
    "name": "ipython",
    "version": 3
   },
   "file_extension": ".py",
   "mimetype": "text/x-python",
   "name": "python",
   "nbconvert_exporter": "python",
   "pygments_lexer": "ipython3",
   "version": "3.8.3"
  }
 },
 "nbformat": 4,
 "nbformat_minor": 4
}
