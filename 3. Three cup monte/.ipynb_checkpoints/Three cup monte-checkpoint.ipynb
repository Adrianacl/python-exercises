{
 "cells": [
  {
   "cell_type": "code",
   "execution_count": 1,
   "metadata": {},
   "outputs": [],
   "source": [
    "from random import shuffle"
   ]
  },
  {
   "cell_type": "code",
   "execution_count": 2,
   "metadata": {},
   "outputs": [],
   "source": [
    "three_cups = ['', 'O', '']\n",
    "\n",
    "def shuffle_cups(three_cups):\n",
    "    \n",
    "    shuffle(three_cups)\n",
    "    \n",
    "    return three_cups"
   ]
  },
  {
   "cell_type": "code",
   "execution_count": 3,
   "metadata": {},
   "outputs": [
    {
     "data": {
      "text/plain": [
       "['', 'O', '']"
      ]
     },
     "execution_count": 3,
     "metadata": {},
     "output_type": "execute_result"
    }
   ],
   "source": [
    "three_cups"
   ]
  },
  {
   "cell_type": "code",
   "execution_count": 4,
   "metadata": {},
   "outputs": [
    {
     "data": {
      "text/plain": [
       "['O', '', '']"
      ]
     },
     "execution_count": 4,
     "metadata": {},
     "output_type": "execute_result"
    }
   ],
   "source": [
    "shuffle_cups(three_cups)"
   ]
  },
  {
   "cell_type": "code",
   "execution_count": 25,
   "metadata": {},
   "outputs": [],
   "source": [
    "def player_guess():\n",
    "    \n",
    "    guess = ''\n",
    "    \n",
    "    while guess not in ['0','1','2']:\n",
    "        \n",
    "        guess = input('Pick a number (0, 1, or 2): ')\n",
    "    \n",
    "    return int(guess)"
   ]
  },
  {
   "cell_type": "code",
   "execution_count": 26,
   "metadata": {},
   "outputs": [
    {
     "name": "stdout",
     "output_type": "stream",
     "text": [
      "Pick a number (0, 1, or 2): 0\n"
     ]
    },
    {
     "data": {
      "text/plain": [
       "0"
      ]
     },
     "execution_count": 26,
     "metadata": {},
     "output_type": "execute_result"
    }
   ],
   "source": [
    "player_guess()"
   ]
  },
  {
   "cell_type": "code",
   "execution_count": 34,
   "metadata": {},
   "outputs": [],
   "source": [
    "def guesses(three_cups, guess):\n",
    "    \n",
    "    if three_cups[guess] == 'O':\n",
    "        print('Correct!')\n",
    "        print(three_cups)\n",
    "        return True\n",
    "    else:\n",
    "        print('Incorrect!')\n",
    "    \n",
    "    return False"
   ]
  },
  {
   "cell_type": "code",
   "execution_count": 38,
   "metadata": {},
   "outputs": [
    {
     "name": "stdout",
     "output_type": "stream",
     "text": [
      "Pick a number (0, 1, or 2): 2\n",
      "Incorrect!\n",
      "Pick a number (0, 1, or 2): 1\n",
      "Correct!\n",
      "['', 'O', '']\n"
     ]
    }
   ],
   "source": [
    "three_cups = ['', 'O', '']\n",
    "\n",
    "mixed_cups = shuffle_cups(three_cups)\n",
    "\n",
    "while True:\n",
    "\n",
    "    guess = player_guess()\n",
    "\n",
    "    correct_guess = guesses(mixed_cups, guess)\n",
    "    \n",
    "    if correct_guess:\n",
    "        break"
   ]
  }
 ],
 "metadata": {
  "kernelspec": {
   "display_name": "Python 3",
   "language": "python",
   "name": "python3"
  },
  "language_info": {
   "codemirror_mode": {
    "name": "ipython",
    "version": 3
   },
   "file_extension": ".py",
   "mimetype": "text/x-python",
   "name": "python",
   "nbconvert_exporter": "python",
   "pygments_lexer": "ipython3",
   "version": "3.8.3"
  }
 },
 "nbformat": 4,
 "nbformat_minor": 4
}
